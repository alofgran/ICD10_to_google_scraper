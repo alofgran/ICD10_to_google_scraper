{
  "nbformat": 4,
  "nbformat_minor": 0,
  "metadata": {
    "colab": {
      "name": "YadaYada-ICD10.ipynb",
      "provenance": [],
      "collapsed_sections": [],
      "mount_file_id": "1zHQ1CoO25VVwgydJquJONvZsUAkLHHcw",
      "authorship_tag": "ABX9TyPm4afVPK4P+gRsnKmRwJ62",
      "include_colab_link": true
    },
    "kernelspec": {
      "name": "python3",
      "display_name": "Python 3"
    }
  },
  "cells": [
    {
      "cell_type": "markdown",
      "metadata": {
        "id": "view-in-github",
        "colab_type": "text"
      },
      "source": [
        "<a href=\"https://colab.research.google.com/github/alofgran/yada_yada/blob/master/YadaYada_ICD10.ipynb\" target=\"_parent\"><img src=\"https://colab.research.google.com/assets/colab-badge.svg\" alt=\"Open In Colab\"/></a>"
      ]
    },
    {
      "cell_type": "markdown",
      "metadata": {
        "id": "XJ2jr_so9jzu",
        "colab_type": "text"
      },
      "source": [
        "# ICD10 Codes >> Google Info\n",
        "We want to gather more information on the 100 most common diagnoses issued in Russell's office by pulling ICD10 information, organizing it, and then also supplementing it with information from Google searches.\n",
        "\n",
        "[CD10 API Documentation](https://pypi.org/project/icd10-cm/)"
      ]
    },
    {
      "cell_type": "code",
      "metadata": {
        "id": "_Dj54xcTmOhD",
        "colab_type": "code",
        "colab": {
          "base_uri": "https://localhost:8080/",
          "height": 106
        },
        "outputId": "37be67eb-9973-44c8-ef4d-becd37e63c08"
      },
      "source": [
        "# !pip install icd10-cm"
      ],
      "execution_count": 3,
      "outputs": [
        {
          "output_type": "stream",
          "text": [
            "Collecting icd10-cm\n",
            "\u001b[?25l  Downloading https://files.pythonhosted.org/packages/6b/a5/3059308d94513845e78d701b71a60c55ee4c37fab4b6442e4c58cdb70da1/icd10_cm-0.0.4-py2.py3-none-any.whl (675kB)\n",
            "\u001b[K     |████████████████████████████████| 675kB 2.7MB/s \n",
            "\u001b[?25hInstalling collected packages: icd10-cm\n",
            "Successfully installed icd10-cm-0.0.4\n"
          ],
          "name": "stdout"
        }
      ]
    },
    {
      "cell_type": "code",
      "metadata": {
        "id": "Y4hkjyZRmXSw",
        "colab_type": "code",
        "colab": {}
      },
      "source": [
        "import icd10\n",
        "import os\n",
        "from google.colab import drive"
      ],
      "execution_count": 0,
      "outputs": []
    },
    {
      "cell_type": "code",
      "metadata": {
        "id": "xTN-OL8RJANm",
        "colab_type": "code",
        "colab": {
          "base_uri": "https://localhost:8080/",
          "height": 53
        },
        "outputId": "33d07df7-8448-44e2-e129-bec6e656356e"
      },
      "source": [
        "#Open filepath to existing data\n",
        "drive.mount('/content/drive', force_remount=True)\n",
        "root = os.getcwd()\n",
        "download_destination = 'drive/My Drive/Colab Notebooks'\n",
        "cwd = os.path.join(root, download_destination)\n",
        "os.chdir(cwd)\n",
        "print('Current working directory: ', os.getcwd())"
      ],
      "execution_count": 2,
      "outputs": [
        {
          "output_type": "stream",
          "text": [
            "Mounted at /content/drive\n",
            "Current working directory:  /content/drive/My Drive/Colab Notebooks\n"
          ],
          "name": "stdout"
        }
      ]
    },
    {
      "cell_type": "code",
      "metadata": {
        "id": "wvRbDtGfJgGw",
        "colab_type": "code",
        "colab": {
          "base_uri": "https://localhost:8080/",
          "height": 206
        },
        "outputId": "91b856d2-30b1-41cd-f77c-b412fd70f50f"
      },
      "source": [
        "import pandas as pd\n",
        "data_df = pd.read_csv('Pediatric Topics.csv')\n",
        "data_df.head()"
      ],
      "execution_count": 3,
      "outputs": [
        {
          "output_type": "execute_result",
          "data": {
            "text/html": [
              "<div>\n",
              "<style scoped>\n",
              "    .dataframe tbody tr th:only-of-type {\n",
              "        vertical-align: middle;\n",
              "    }\n",
              "\n",
              "    .dataframe tbody tr th {\n",
              "        vertical-align: top;\n",
              "    }\n",
              "\n",
              "    .dataframe thead th {\n",
              "        text-align: right;\n",
              "    }\n",
              "</style>\n",
              "<table border=\"1\" class=\"dataframe\">\n",
              "  <thead>\n",
              "    <tr style=\"text-align: right;\">\n",
              "      <th></th>\n",
              "      <th>Code</th>\n",
              "      <th>Diagnosis</th>\n",
              "      <th>Symptoms</th>\n",
              "      <th>Doctors</th>\n",
              "    </tr>\n",
              "  </thead>\n",
              "  <tbody>\n",
              "    <tr>\n",
              "      <th>0</th>\n",
              "      <td>J00</td>\n",
              "      <td>Common Cold</td>\n",
              "      <td>Runny nose/congestion, cough, fever</td>\n",
              "      <td>NaN</td>\n",
              "    </tr>\n",
              "    <tr>\n",
              "      <th>1</th>\n",
              "      <td>R05</td>\n",
              "      <td>Cough</td>\n",
              "      <td>NaN</td>\n",
              "      <td>NaN</td>\n",
              "    </tr>\n",
              "    <tr>\n",
              "      <th>2</th>\n",
              "      <td>R50.9</td>\n",
              "      <td>Fever</td>\n",
              "      <td>NaN</td>\n",
              "      <td>NaN</td>\n",
              "    </tr>\n",
              "    <tr>\n",
              "      <th>3</th>\n",
              "      <td>R09.81</td>\n",
              "      <td>Nasal Congestion</td>\n",
              "      <td>NaN</td>\n",
              "      <td>NaN</td>\n",
              "    </tr>\n",
              "    <tr>\n",
              "      <th>4</th>\n",
              "      <td>H92.09</td>\n",
              "      <td>Ear Pain</td>\n",
              "      <td>NaN</td>\n",
              "      <td>NaN</td>\n",
              "    </tr>\n",
              "  </tbody>\n",
              "</table>\n",
              "</div>"
            ],
            "text/plain": [
              "     Code         Diagnosis                             Symptoms   Doctors \n",
              "0     J00       Common Cold   Runny nose/congestion, cough, fever       NaN\n",
              "1     R05              Cough                                  NaN       NaN\n",
              "2   R50.9              Fever                                  NaN       NaN\n",
              "3  R09.81  Nasal Congestion                                   NaN       NaN\n",
              "4  H92.09          Ear Pain                                   NaN       NaN"
            ]
          },
          "metadata": {
            "tags": []
          },
          "execution_count": 3
        }
      ]
    },
    {
      "cell_type": "code",
      "metadata": {
        "id": "BK5D5RNn7T7o",
        "colab_type": "code",
        "colab": {}
      },
      "source": [
        "import re\n",
        "import numpy as np\n",
        "\n",
        "# example_codes = ['J00', 'R05', 'R50.9', 'R09.81', 'H92.09', 'H66.9', 'R13.1', 'J02.9', 'J02.0', 'J98.8', 'R10.9', 'R10.10', 'R10.11', 'R10.12', 'R10.13', 'R10.30', 'R10.31', 'R10.32', 'R10.33', 'R10.84']\n",
        "\n",
        "# NOTE: ICD-10-CM R11. 15 is a new 2020 ICD-10-CM code that became effective on October 1, 2019.\n",
        "\n",
        "def get_code_description(list_of_codes):\n",
        "    results_dict = {}\n",
        "    recheck_list = []\n",
        "    for code in data_df['Code']:\n",
        "        code = code.strip(' ')\n",
        "        if icd10.exists(code):# and bool(re.search(r'\\d', code)): #Ignore values in columns that aren't codes (words/blanks)\n",
        "            code_class_obj = icd10.find(code) #Get ICD10 class for associated code\n",
        "            #Get description\n",
        "            info = code_class_obj.description #get the description associated with the code\n",
        "            #Get billability\n",
        "            billability = code_class_obj.billable\n",
        "            #Convert code to query for google search\n",
        "            query = info.replace(', unspecified', '')\\\n",
        "                        .replace('Unspecified ', '')\\\n",
        "                        .replace(' unspecified', '')\\\n",
        "                        .replace('  ', ' ')\n",
        "            #Save results to dict\n",
        "            results_dict[code] = {'ICD10_Description': info,\n",
        "                                  'Query': query,\n",
        "                                  'Billability': billability}\n",
        "        else:\n",
        "            recheck_list.append(code)\n",
        "\n",
        "    return results_dict, recheck_list\n",
        "\n",
        "results_dict, recheck_list = get_code_description(data_df['Code'])"
      ],
      "execution_count": 0,
      "outputs": []
    },
    {
      "cell_type": "code",
      "metadata": {
        "id": "CTpf5GEI9af0",
        "colab_type": "code",
        "colab": {}
      },
      "source": [
        "import pprint\n",
        "pp = pprint.PrettyPrinter(indent=4)\n",
        "pp.pprint(results_dict)"
      ],
      "execution_count": 0,
      "outputs": []
    },
    {
      "cell_type": "code",
      "metadata": {
        "id": "6lBkOWE6Ms-2",
        "colab_type": "code",
        "colab": {
          "base_uri": "https://localhost:8080/",
          "height": 71
        },
        "outputId": "62d90008-ce6e-4716-ac2f-16cc40344ff7"
      },
      "source": [
        "billable_codes = [{k:v} for k, v in results_dict.items() if v['Billability']==True]\n",
        "\n",
        "print('Number of codes:', len(results_dict))\n",
        "print('Number of failed codes: ', len(recheck_list))\n",
        "print('Number of billable codes: ', len(billable_codes))"
      ],
      "execution_count": 5,
      "outputs": [
        {
          "output_type": "stream",
          "text": [
            "Number of codes: 72\n",
            "Number of failed codes:  20\n",
            "Number of billable codes:  68\n"
          ],
          "name": "stdout"
        }
      ]
    },
    {
      "cell_type": "code",
      "metadata": {
        "id": "bpwTk9LMO4Bu",
        "colab_type": "code",
        "colab": {}
      },
      "source": [
        "import requests\n",
        "from bs4 import BeautifulSoup\n",
        "import time\n",
        "\n",
        "query = \"fever\"\n",
        "#Because google provides different results on desktop and mobile devices we need to define the user_agent accordingly\n",
        "USER_AGENT = \"Mozilla/5.0 (Macintosh; Intel Mac OS X 10.14; rv:65.0) Gecko/20100101 Firefox/65.0\"\n",
        "MOBILE_USER_AGENT = \"Mozilla/5.0 (Linux; Android 7.0; SM-G930V Build/NRD90M) AppleWebKit/537.36 (KHTML, like Gecko) Chrome/59.0.3071.125 Mobile Safari/537.36\"\n",
        "headers = {\"user-agent\" : MOBILE_USER_AGENT}\n",
        "\n",
        "# Running search on entire list...\n",
        "def scrape_google(query):\n",
        "    query = query.replace(' ', '+')\n",
        "    URL = f\"https://google.com/search?q={query}\"\n",
        "    time.sleep(5)\n",
        "    resp = requests.get(URL, headers=headers)\n",
        "    status_code = resp.status_code\n",
        "    if status_code == 200:\n",
        "        print('Successful query of {}: {}'.format(query, status_code))\n",
        "        soup = BeautifulSoup(resp.content, \"html.parser\")#can use lxml instead of html.parser...\n",
        "    else:\n",
        "        print('Unsuccessful query of {}: {}'.format(query, status_code))\n",
        "    return soup\n",
        "\n",
        "#Test Example\n",
        "# scrape_google('fever')"
      ],
      "execution_count": 0,
      "outputs": []
    },
    {
      "cell_type": "code",
      "metadata": {
        "id": "XD3UVRacPDZX",
        "colab_type": "code",
        "colab": {}
      },
      "source": [
        "#Extract the 'self-treatment' and 'seeking medical care' sections from BeautifulSoup object\n",
        "\n",
        "def extract_treatment_care_info(soup, div_class = 'swqYTd'): #'Self-treatment'=[0] and 'Seeking medical care'=[1]\n",
        "    temp_results ={}\n",
        "    for row in soup.find_all('div',attrs={'class': div_class}):\n",
        "        row = re.split('^(Self-treatment)|^(Seeking medical care)', row.text)\n",
        "        row = [r for r in row if r != '']\n",
        "        row = [r for r in row if r != None]\n",
        "        temp_results[row[0]] = row[1]\n",
        "    return temp_results\n",
        "\n",
        "# print(temp_results, '\\n')\n",
        "\n",
        "# import pprint\n",
        "# pp = pprint.PrettyPrinter(indent=4)\n",
        "# pp.pprint(temp_results)"
      ],
      "execution_count": 0,
      "outputs": []
    },
    {
      "cell_type": "code",
      "metadata": {
        "id": "En_ZfbnixynM",
        "colab_type": "code",
        "colab": {
          "base_uri": "https://localhost:8080/",
          "height": 91
        },
        "outputId": "6d881030-0a04-4781-d690-a97b9f6caa7a"
      },
      "source": [
        "#Testing a single search\n",
        "extract_treatment_care_info(scrape_google('fever'))"
      ],
      "execution_count": 17,
      "outputs": [
        {
          "output_type": "stream",
          "text": [
            "Successful query of fever: 200\n"
          ],
          "name": "stdout"
        },
        {
          "output_type": "execute_result",
          "data": {
            "text/plain": [
              "{'Seeking medical care': \"See a doctor immediately if you have a child:Younger than 3 months with a 100.4°F (38°C) or higher fever3 to 6 months old with 102°F (38.9°C) or higher fever6 to 24 months old with a 102°F (38.9°C) or higher fever that lasts more than a day2 years old or older with fever who is listless, irritable, or vomiting repeatedlyOr if you're an adult with a 103°F (39.4°C) or higher fever\",\n",
              " 'Self-treatment': 'Over-the-counter medications such as acetaminophen and ibuprofen may help ease discomfort. Avoid giving children aspirin because this may cause a rare, serious condition.'}"
            ]
          },
          "metadata": {
            "tags": []
          },
          "execution_count": 17
        }
      ]
    },
    {
      "cell_type": "code",
      "metadata": {
        "id": "qbUwgVU04VIy",
        "colab_type": "code",
        "colab": {}
      },
      "source": [
        "for key, value in results_dict.items():\n",
        "    results_dict[key].update(extract_treatment_care_info(scrape_google(value['Query'])))"
      ],
      "execution_count": 0,
      "outputs": []
    },
    {
      "cell_type": "code",
      "metadata": {
        "id": "dEPTAxwXDw7V",
        "colab_type": "code",
        "colab": {
          "base_uri": "https://localhost:8080/",
          "height": 35
        },
        "outputId": "8b081762-c96a-401f-deca-adb92b362e29"
      },
      "source": [
        "#Get the number of treatment codes recorded from the google search\n",
        "count = 0\n",
        "for k, v in results_dict.items():\n",
        "    # print(v)\n",
        "    if 'Self-treatment' in v:\n",
        "        count += 1\n",
        "\n",
        "print('Percentage of codes with treatment/medical care info: {:.2f}%'.format(count/len(results_dict)*100))"
      ],
      "execution_count": 27,
      "outputs": [
        {
          "output_type": "stream",
          "text": [
            "Percentage of codes with treatment/medical care info: 16.67%\n"
          ],
          "name": "stdout"
        }
      ]
    },
    {
      "cell_type": "markdown",
      "metadata": {
        "id": "3hNAFrjFVut-",
        "colab_type": "text"
      },
      "source": [
        "## __Data dictionary for our results table__\n",
        "\n",
        "* __Index__ -  ICD10 code derived from Russell's spreadsheet\n",
        "* __ICD10_Description__ -  Description in ICD10 dictionary pulled via API\n",
        "* __Query__ - Modified version of `ICD10_Description` that gives better Google query results\n",
        "* __Billability__ -  Whether or not the code is billable (a billable code is detailed enough to be used to specify a medical diagnosis) - maybe this will inform whether or not it's too specific\n",
        "* __Self-treatment__ -  A section from google search results\n",
        "* __Seeking medical care__ -  A section from google search results"
      ]
    },
    {
      "cell_type": "code",
      "metadata": {
        "id": "TkxaGI4QD5mo",
        "colab_type": "code",
        "colab": {
          "base_uri": "https://localhost:8080/",
          "height": 206
        },
        "outputId": "054fda0b-90f1-4c7c-f227-9f0f135462a2"
      },
      "source": [
        "results_df = pd.DataFrame(results_dict).T\n",
        "results_df.head()"
      ],
      "execution_count": 31,
      "outputs": [
        {
          "output_type": "execute_result",
          "data": {
            "text/html": [
              "<div>\n",
              "<style scoped>\n",
              "    .dataframe tbody tr th:only-of-type {\n",
              "        vertical-align: middle;\n",
              "    }\n",
              "\n",
              "    .dataframe tbody tr th {\n",
              "        vertical-align: top;\n",
              "    }\n",
              "\n",
              "    .dataframe thead th {\n",
              "        text-align: right;\n",
              "    }\n",
              "</style>\n",
              "<table border=\"1\" class=\"dataframe\">\n",
              "  <thead>\n",
              "    <tr style=\"text-align: right;\">\n",
              "      <th></th>\n",
              "      <th>ICD10_Description</th>\n",
              "      <th>Query</th>\n",
              "      <th>Billability</th>\n",
              "      <th>Self-treatment</th>\n",
              "      <th>Seeking medical care</th>\n",
              "    </tr>\n",
              "  </thead>\n",
              "  <tbody>\n",
              "    <tr>\n",
              "      <th>J00</th>\n",
              "      <td>Acute nasopharyngitis [common cold]</td>\n",
              "      <td>Acute nasopharyngitis [common cold]</td>\n",
              "      <td>True</td>\n",
              "      <td>NaN</td>\n",
              "      <td>NaN</td>\n",
              "    </tr>\n",
              "    <tr>\n",
              "      <th>R05</th>\n",
              "      <td>Cough</td>\n",
              "      <td>Cough</td>\n",
              "      <td>True</td>\n",
              "      <td>Liquids, lozenges, cough drops, vaporizers, an...</td>\n",
              "      <td>Make an appointment to see a doctor if youDeve...</td>\n",
              "    </tr>\n",
              "    <tr>\n",
              "      <th>R50.9</th>\n",
              "      <td>Fever, unspecified</td>\n",
              "      <td>Fever</td>\n",
              "      <td>True</td>\n",
              "      <td>Over-the-counter medications such as acetamino...</td>\n",
              "      <td>See a doctor immediately if you have a child:Y...</td>\n",
              "    </tr>\n",
              "    <tr>\n",
              "      <th>R09.81</th>\n",
              "      <td>Nasal congestion</td>\n",
              "      <td>Nasal congestion</td>\n",
              "      <td>True</td>\n",
              "      <td>Using a humidifier at home and rinsing the ins...</td>\n",
              "      <td>Make an appointment to see a doctor if youAre ...</td>\n",
              "    </tr>\n",
              "    <tr>\n",
              "      <th>H92.09</th>\n",
              "      <td>Otalgia, unspecified ear</td>\n",
              "      <td>Otalgia ear</td>\n",
              "      <td>True</td>\n",
              "      <td>Using a warm, moist compress on the ear may he...</td>\n",
              "      <td>Make an appointment to see a doctor if youDeve...</td>\n",
              "    </tr>\n",
              "  </tbody>\n",
              "</table>\n",
              "</div>"
            ],
            "text/plain": [
              "                          ICD10_Description  ...                               Seeking medical care\n",
              "J00     Acute nasopharyngitis [common cold]  ...                                                NaN\n",
              "R05                                   Cough  ...  Make an appointment to see a doctor if youDeve...\n",
              "R50.9                    Fever, unspecified  ...  See a doctor immediately if you have a child:Y...\n",
              "R09.81                     Nasal congestion  ...  Make an appointment to see a doctor if youAre ...\n",
              "H92.09             Otalgia, unspecified ear  ...  Make an appointment to see a doctor if youDeve...\n",
              "\n",
              "[5 rows x 5 columns]"
            ]
          },
          "metadata": {
            "tags": []
          },
          "execution_count": 31
        }
      ]
    },
    {
      "cell_type": "code",
      "metadata": {
        "id": "tRKXR180IR3Z",
        "colab_type": "code",
        "colab": {}
      },
      "source": [
        ""
      ],
      "execution_count": 0,
      "outputs": []
    }
  ]
}